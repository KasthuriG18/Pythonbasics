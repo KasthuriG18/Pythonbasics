{
 "cells": [
  {
   "cell_type": "code",
   "execution_count": 1,
   "id": "105274a4",
   "metadata": {},
   "outputs": [],
   "source": [
    "list=[\"kasthuri\",\"car\",\"money\",\"watch\",\"bike\",\"collage\"]"
   ]
  },
  {
   "cell_type": "code",
   "execution_count": 2,
   "id": "87419ada",
   "metadata": {},
   "outputs": [
    {
     "data": {
      "text/plain": [
       "['kasthuri', 'car', 'money', 'watch', 'bike', 'collage']"
      ]
     },
     "execution_count": 2,
     "metadata": {},
     "output_type": "execute_result"
    }
   ],
   "source": [
    "list"
   ]
  },
  {
   "cell_type": "code",
   "execution_count": 3,
   "id": "cf322bfe",
   "metadata": {},
   "outputs": [],
   "source": [
    "a=[\"a\",\"b\",\"c\",\"d\",\"e\",\"f\",\"g\",\"h\",\"i\",\"j\",\"k\"]"
   ]
  },
  {
   "cell_type": "code",
   "execution_count": 4,
   "id": "eb6e100b",
   "metadata": {},
   "outputs": [
    {
     "data": {
      "text/plain": [
       "['a', 'b', 'c', 'd', 'e', 'f', 'g', 'h', 'i', 'j', 'k']"
      ]
     },
     "execution_count": 4,
     "metadata": {},
     "output_type": "execute_result"
    }
   ],
   "source": [
    "a"
   ]
  },
  {
   "cell_type": "code",
   "execution_count": 5,
   "id": "cb2ab78d",
   "metadata": {},
   "outputs": [],
   "source": [
    "b={1,2,3,4,5,6,7}"
   ]
  },
  {
   "cell_type": "code",
   "execution_count": 6,
   "id": "92c29d69",
   "metadata": {},
   "outputs": [
    {
     "data": {
      "text/plain": [
       "{1, 2, 3, 4, 5, 6, 7}"
      ]
     },
     "execution_count": 6,
     "metadata": {},
     "output_type": "execute_result"
    }
   ],
   "source": [
    "b"
   ]
  },
  {
   "cell_type": "code",
   "execution_count": 7,
   "id": "0aec2172",
   "metadata": {},
   "outputs": [],
   "source": [
    "set={1,2,3,4,5,6,7,8,9,10}"
   ]
  },
  {
   "cell_type": "code",
   "execution_count": 8,
   "id": "664d7c1b",
   "metadata": {},
   "outputs": [
    {
     "ename": "TypeError",
     "evalue": "'set' object is not subscriptable",
     "output_type": "error",
     "traceback": [
      "\u001b[1;31m---------------------------------------------------------------------------\u001b[0m",
      "\u001b[1;31mTypeError\u001b[0m                                 Traceback (most recent call last)",
      "Cell \u001b[1;32mIn[8], line 1\u001b[0m\n\u001b[1;32m----> 1\u001b[0m \u001b[38;5;28;43mset\u001b[39;49m\u001b[43m[\u001b[49m\u001b[38;5;241;43m1\u001b[39;49m\u001b[43m]\u001b[49m\n",
      "\u001b[1;31mTypeError\u001b[0m: 'set' object is not subscriptable"
     ]
    }
   ],
   "source": [
    "set[1]"
   ]
  },
  {
   "cell_type": "code",
   "execution_count": null,
   "id": "f59060c0",
   "metadata": {},
   "outputs": [],
   "source": [
    "dic={\"key\":\"value\",\"key1\":\"value2\",\"key\":\"value2\"}"
   ]
  },
  {
   "cell_type": "code",
   "execution_count": null,
   "id": "c9278ed6",
   "metadata": {},
   "outputs": [],
   "source": [
    "kasthuri={\"name\":\"kasthuri\",\"email_id\":\"kasthurigorige@gmail.com\",\"collage\":\"kmics\",\"place\":\"hyderabad\"}"
   ]
  },
  {
   "cell_type": "code",
   "execution_count": null,
   "id": "f49b5861",
   "metadata": {},
   "outputs": [],
   "source": [
    "kasthuri"
   ]
  },
  {
   "cell_type": "code",
   "execution_count": null,
   "id": "4679994d",
   "metadata": {},
   "outputs": [],
   "source": [
    "kasthuri.values()"
   ]
  },
  {
   "cell_type": "code",
   "execution_count": null,
   "id": "c15188a5",
   "metadata": {},
   "outputs": [],
   "source": [
    "kasthuri.keys()"
   ]
  },
  {
   "cell_type": "code",
   "execution_count": null,
   "id": "3822db91",
   "metadata": {},
   "outputs": [],
   "source": [
    "kasthuri.values"
   ]
  },
  {
   "cell_type": "code",
   "execution_count": null,
   "id": "9b469f29",
   "metadata": {},
   "outputs": [],
   "source": [
    "type(kasthuri)"
   ]
  },
  {
   "cell_type": "code",
   "execution_count": null,
   "id": "d2f9f380",
   "metadata": {},
   "outputs": [],
   "source": [
    "kasthuri[0]=\"krishna\""
   ]
  },
  {
   "cell_type": "code",
   "execution_count": null,
   "id": "d9bf0cfa",
   "metadata": {},
   "outputs": [],
   "source": [
    "kasthuri"
   ]
  },
  {
   "cell_type": "code",
   "execution_count": null,
   "id": "6746ff1c",
   "metadata": {},
   "outputs": [],
   "source": [
    "kasthuri[1]=\"holiday\""
   ]
  },
  {
   "cell_type": "code",
   "execution_count": null,
   "id": "2fe2bcc1",
   "metadata": {},
   "outputs": [],
   "source": [
    "kasthuri"
   ]
  },
  {
   "cell_type": "code",
   "execution_count": null,
   "id": "5565b15b",
   "metadata": {},
   "outputs": [],
   "source": [
    "kasthuri[2]=\"movie\""
   ]
  },
  {
   "cell_type": "code",
   "execution_count": null,
   "id": "6403a53a",
   "metadata": {},
   "outputs": [],
   "source": [
    "kasthuri"
   ]
  },
  {
   "cell_type": "code",
   "execution_count": null,
   "id": "71f2046e",
   "metadata": {},
   "outputs": [],
   "source": [
    "t=(\"kasthuri\",\"collage\",\"car\",\"book\",\"bike\")"
   ]
  },
  {
   "cell_type": "code",
   "execution_count": null,
   "id": "e0c2ceea",
   "metadata": {},
   "outputs": [],
   "source": [
    "t"
   ]
  },
  {
   "cell_type": "code",
   "execution_count": null,
   "id": "0bcc8d40",
   "metadata": {},
   "outputs": [],
   "source": [
    "t[0]=\"rama\"\n"
   ]
  },
  {
   "cell_type": "code",
   "execution_count": null,
   "id": "08b5c179",
   "metadata": {},
   "outputs": [],
   "source": [
    "t(0)=\"rama\""
   ]
  },
  {
   "cell_type": "code",
   "execution_count": null,
   "id": "824ac62c",
   "metadata": {},
   "outputs": [],
   "source": [
    "t=[\"kasthuri\",\"collage\",\"car\",\"book\",\"bike\"]"
   ]
  },
  {
   "cell_type": "code",
   "execution_count": null,
   "id": "599f82d2",
   "metadata": {},
   "outputs": [],
   "source": [
    "t"
   ]
  },
  {
   "cell_type": "code",
   "execution_count": null,
   "id": "4b76bb8f",
   "metadata": {},
   "outputs": [],
   "source": [
    "t[0]=\"rama\""
   ]
  },
  {
   "cell_type": "code",
   "execution_count": null,
   "id": "a4335f0c",
   "metadata": {},
   "outputs": [],
   "source": [
    "f=open(\"kasthuri.txt\",\"w\")"
   ]
  },
  {
   "cell_type": "code",
   "execution_count": null,
   "id": "352b627b",
   "metadata": {},
   "outputs": [],
   "source": [
    "f.write(\"this is my first file writen in jupyter notebook on 1-april-2023\")"
   ]
  },
  {
   "cell_type": "code",
   "execution_count": null,
   "id": "4db87358",
   "metadata": {},
   "outputs": [],
   "source": [
    "f.close()"
   ]
  },
  {
   "cell_type": "markdown",
   "id": "06ffbc2a",
   "metadata": {},
   "source": [
    "# boolean,conditions and list manupilation"
   ]
  },
  {
   "cell_type": "code",
   "execution_count": null,
   "id": "79730ddf",
   "metadata": {},
   "outputs": [],
   "source": [
    "true or false of a condition is known as boolean"
   ]
  },
  {
   "cell_type": "code",
   "execution_count": 2,
   "id": "8444a647",
   "metadata": {},
   "outputs": [],
   "source": [
    "a=10\n",
    "b=5"
   ]
  },
  {
   "cell_type": "code",
   "execution_count": 3,
   "id": "7e6a77d3",
   "metadata": {},
   "outputs": [
    {
     "name": "stdout",
     "output_type": "stream",
     "text": [
      "True\n"
     ]
    }
   ],
   "source": [
    "print(a>b)"
   ]
  },
  {
   "cell_type": "code",
   "execution_count": 4,
   "id": "c7638404",
   "metadata": {},
   "outputs": [
    {
     "name": "stdout",
     "output_type": "stream",
     "text": [
      "True\n"
     ]
    }
   ],
   "source": [
    "print(5<10)"
   ]
  },
  {
   "cell_type": "code",
   "execution_count": 5,
   "id": "22de5a9c",
   "metadata": {},
   "outputs": [
    {
     "name": "stdout",
     "output_type": "stream",
     "text": [
      "False\n"
     ]
    }
   ],
   "source": [
    "print(a<b)"
   ]
  },
  {
   "cell_type": "code",
   "execution_count": 6,
   "id": "249b9e7b",
   "metadata": {},
   "outputs": [],
   "source": [
    "car=20\n",
    "bike=40"
   ]
  },
  {
   "cell_type": "code",
   "execution_count": 7,
   "id": "826df9d0",
   "metadata": {},
   "outputs": [
    {
     "name": "stdout",
     "output_type": "stream",
     "text": [
      "True\n"
     ]
    }
   ],
   "source": [
    "print(bike>car)"
   ]
  },
  {
   "cell_type": "code",
   "execution_count": 8,
   "id": "b979ec59",
   "metadata": {},
   "outputs": [],
   "source": [
    "pen=20\n",
    "pencil=30"
   ]
  },
  {
   "cell_type": "code",
   "execution_count": 9,
   "id": "601f2b60",
   "metadata": {},
   "outputs": [
    {
     "name": "stdout",
     "output_type": "stream",
     "text": [
      "False\n"
     ]
    }
   ],
   "source": [
    "print(pen>pencil)"
   ]
  },
  {
   "cell_type": "code",
   "execution_count": 10,
   "id": "36ef5a3a",
   "metadata": {},
   "outputs": [
    {
     "data": {
      "text/plain": [
       "int"
      ]
     },
     "execution_count": 10,
     "metadata": {},
     "output_type": "execute_result"
    }
   ],
   "source": [
    "type(a)"
   ]
  },
  {
   "cell_type": "code",
   "execution_count": 11,
   "id": "f0f4686c",
   "metadata": {},
   "outputs": [
    {
     "data": {
      "text/plain": [
       "int"
      ]
     },
     "execution_count": 11,
     "metadata": {},
     "output_type": "execute_result"
    }
   ],
   "source": [
    "type(b)"
   ]
  },
  {
   "cell_type": "code",
   "execution_count": 12,
   "id": "22d28402",
   "metadata": {},
   "outputs": [
    {
     "ename": "SyntaxError",
     "evalue": "Missing parentheses in call to 'print'. Did you mean print(...)? (1620047205.py, line 1)",
     "output_type": "error",
     "traceback": [
      "\u001b[1;36m  Cell \u001b[1;32mIn[12], line 1\u001b[1;36m\u001b[0m\n\u001b[1;33m    type(print statement)\u001b[0m\n\u001b[1;37m         ^\u001b[0m\n\u001b[1;31mSyntaxError\u001b[0m\u001b[1;31m:\u001b[0m Missing parentheses in call to 'print'. Did you mean print(...)?\n"
     ]
    }
   ],
   "source": [
    "type(print statement)"
   ]
  },
  {
   "cell_type": "code",
   "execution_count": null,
   "id": "bbbf71f9",
   "metadata": {},
   "outputs": [],
   "source": [
    "+,-,*,/,%"
   ]
  },
  {
   "cell_type": "code",
   "execution_count": 13,
   "id": "fde3e818",
   "metadata": {},
   "outputs": [],
   "source": [
    "a=10\n",
    "b=20"
   ]
  },
  {
   "cell_type": "code",
   "execution_count": 14,
   "id": "b0c47e39",
   "metadata": {},
   "outputs": [
    {
     "data": {
      "text/plain": [
       "30"
      ]
     },
     "execution_count": 14,
     "metadata": {},
     "output_type": "execute_result"
    }
   ],
   "source": [
    "a+b"
   ]
  },
  {
   "cell_type": "code",
   "execution_count": 15,
   "id": "7849b911",
   "metadata": {},
   "outputs": [],
   "source": [
    "c=15\n",
    "d=25"
   ]
  },
  {
   "cell_type": "code",
   "execution_count": 16,
   "id": "0c192d2a",
   "metadata": {},
   "outputs": [
    {
     "data": {
      "text/plain": [
       "2.5"
      ]
     },
     "execution_count": 16,
     "metadata": {},
     "output_type": "execute_result"
    }
   ],
   "source": [
    "d/a"
   ]
  },
  {
   "cell_type": "code",
   "execution_count": 17,
   "id": "f3f5bee1",
   "metadata": {},
   "outputs": [
    {
     "data": {
      "text/plain": [
       "10"
      ]
     },
     "execution_count": 17,
     "metadata": {},
     "output_type": "execute_result"
    }
   ],
   "source": [
    "d-c"
   ]
  },
  {
   "cell_type": "code",
   "execution_count": 18,
   "id": "0a4472a4",
   "metadata": {},
   "outputs": [
    {
     "data": {
      "text/plain": [
       "200"
      ]
     },
     "execution_count": 18,
     "metadata": {},
     "output_type": "execute_result"
    }
   ],
   "source": [
    "a*b"
   ]
  },
  {
   "cell_type": "code",
   "execution_count": 19,
   "id": "f443f794",
   "metadata": {},
   "outputs": [
    {
     "name": "stdout",
     "output_type": "stream",
     "text": [
      "here we are adding car and pen variable\n"
     ]
    }
   ],
   "source": [
    "print(\"here we are adding car and pen variable\")"
   ]
  },
  {
   "cell_type": "code",
   "execution_count": 20,
   "id": "ba868af9",
   "metadata": {},
   "outputs": [],
   "source": [
    "car=30\n",
    "pen=40"
   ]
  },
  {
   "cell_type": "code",
   "execution_count": 21,
   "id": "06b7ee91",
   "metadata": {},
   "outputs": [],
   "source": [
    "book=car+pen"
   ]
  },
  {
   "cell_type": "markdown",
   "id": "36f7a515",
   "metadata": {},
   "source": [
    "# print(\"here we are concatination of car and pen: value of book is :-\",book)"
   ]
  },
  {
   "cell_type": "code",
   "execution_count": 23,
   "id": "0e2c4164",
   "metadata": {},
   "outputs": [],
   "source": [
    "a=40\n",
    "car=20\n",
    "value=a+car\n",
    "value2=a-car\n",
    "value3=a*car\n",
    "value4=a%car\n",
    "value5=a*100/car #this is the percentage of a"
   ]
  },
  {
   "cell_type": "code",
   "execution_count": 24,
   "id": "8186cf1d",
   "metadata": {},
   "outputs": [
    {
     "name": "stdout",
     "output_type": "stream",
     "text": [
      "60\n"
     ]
    }
   ],
   "source": [
    "print(value)"
   ]
  },
  {
   "cell_type": "code",
   "execution_count": 25,
   "id": "d9e28fd1",
   "metadata": {},
   "outputs": [
    {
     "name": "stdout",
     "output_type": "stream",
     "text": [
      "20\n"
     ]
    }
   ],
   "source": [
    "print(value2)"
   ]
  },
  {
   "cell_type": "code",
   "execution_count": 26,
   "id": "af6c7ff1",
   "metadata": {},
   "outputs": [
    {
     "name": "stdout",
     "output_type": "stream",
     "text": [
      "800\n"
     ]
    }
   ],
   "source": [
    "print(value3)"
   ]
  },
  {
   "cell_type": "code",
   "execution_count": 27,
   "id": "02b0cafa",
   "metadata": {},
   "outputs": [
    {
     "name": "stdout",
     "output_type": "stream",
     "text": [
      "0\n"
     ]
    }
   ],
   "source": [
    "print(value4)"
   ]
  },
  {
   "cell_type": "code",
   "execution_count": 28,
   "id": "9af7992b",
   "metadata": {},
   "outputs": [
    {
     "name": "stdout",
     "output_type": "stream",
     "text": [
      "200.0\n"
     ]
    }
   ],
   "source": [
    "print(value5)"
   ]
  },
  {
   "cell_type": "markdown",
   "id": "4353bf42",
   "metadata": {},
   "source": [
    "# list manupulation"
   ]
  },
  {
   "cell_type": "code",
   "execution_count": 29,
   "id": "a1245fbf",
   "metadata": {},
   "outputs": [],
   "source": [
    "t=(1,2,3,4,5,\"kasthuri\")"
   ]
  },
  {
   "cell_type": "code",
   "execution_count": 30,
   "id": "9182235d",
   "metadata": {},
   "outputs": [
    {
     "data": {
      "text/plain": [
       "tuple"
      ]
     },
     "execution_count": 30,
     "metadata": {},
     "output_type": "execute_result"
    }
   ],
   "source": [
    "type(t)"
   ]
  },
  {
   "cell_type": "code",
   "execution_count": 31,
   "id": "c944c6d7",
   "metadata": {},
   "outputs": [],
   "source": [
    "t=[1,2,3,4,5,\"kasthuri\"]"
   ]
  },
  {
   "cell_type": "code",
   "execution_count": 32,
   "id": "555472c6",
   "metadata": {},
   "outputs": [
    {
     "data": {
      "text/plain": [
       "list"
      ]
     },
     "execution_count": 32,
     "metadata": {},
     "output_type": "execute_result"
    }
   ],
   "source": [
    "type(t)"
   ]
  },
  {
   "cell_type": "code",
   "execution_count": 33,
   "id": "9e457070",
   "metadata": {},
   "outputs": [
    {
     "data": {
      "text/plain": [
       "[1, 2, 3, 4, 5, 'kasthuri']"
      ]
     },
     "execution_count": 33,
     "metadata": {},
     "output_type": "execute_result"
    }
   ],
   "source": [
    "list(t)"
   ]
  },
  {
   "cell_type": "code",
   "execution_count": 34,
   "id": "95c52f78",
   "metadata": {},
   "outputs": [],
   "source": [
    "b={1,2,3,4,\"kasthuri\",\"krishna\"}"
   ]
  },
  {
   "cell_type": "code",
   "execution_count": 35,
   "id": "069a62de",
   "metadata": {},
   "outputs": [
    {
     "data": {
      "text/plain": [
       "set"
      ]
     },
     "execution_count": 35,
     "metadata": {},
     "output_type": "execute_result"
    }
   ],
   "source": [
    "type(b)"
   ]
  },
  {
   "cell_type": "code",
   "execution_count": 36,
   "id": "34e09030",
   "metadata": {},
   "outputs": [
    {
     "data": {
      "text/plain": [
       "[1, 2, 3, 4, 'krishna', 'kasthuri']"
      ]
     },
     "execution_count": 36,
     "metadata": {},
     "output_type": "execute_result"
    }
   ],
   "source": [
    "list(b)"
   ]
  },
  {
   "cell_type": "code",
   "execution_count": 37,
   "id": "54abb095",
   "metadata": {},
   "outputs": [],
   "source": [
    "s1=list(b)"
   ]
  },
  {
   "cell_type": "code",
   "execution_count": null,
   "id": "791e2897",
   "metadata": {},
   "outputs": [],
   "source": []
  }
 ],
 "metadata": {
  "kernelspec": {
   "display_name": "Python 3 (ipykernel)",
   "language": "python",
   "name": "python3"
  },
  "language_info": {
   "codemirror_mode": {
    "name": "ipython",
    "version": 3
   },
   "file_extension": ".py",
   "mimetype": "text/x-python",
   "name": "python",
   "nbconvert_exporter": "python",
   "pygments_lexer": "ipython3",
   "version": "3.10.9"
  }
 },
 "nbformat": 4,
 "nbformat_minor": 5
}
