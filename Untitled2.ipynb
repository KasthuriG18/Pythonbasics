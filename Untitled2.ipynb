{
 "cells": [
  {
   "cell_type": "code",
   "execution_count": null,
   "id": "5ff555df",
   "metadata": {},
   "outputs": [],
   "source": [
    "* is expression"
   ]
  },
  {
   "cell_type": "code",
   "execution_count": null,
   "id": "b6aa9474",
   "metadata": {},
   "outputs": [],
   "source": [
    "'hello' is str"
   ]
  },
  {
   "cell_type": "code",
   "execution_count": null,
   "id": "d651eb0e",
   "metadata": {},
   "outputs": [],
   "source": [
    "-87.8 is int"
   ]
  },
  {
   "cell_type": "code",
   "execution_count": null,
   "id": "d0a18351",
   "metadata": {},
   "outputs": [],
   "source": [
    "- , /, + is expression"
   ]
  },
  {
   "cell_type": "code",
   "execution_count": null,
   "id": "d457aee9",
   "metadata": {},
   "outputs": [],
   "source": [
    "6 is int"
   ]
  },
  {
   "cell_type": "code",
   "execution_count": null,
   "id": "06c30dcd",
   "metadata": {},
   "outputs": [],
   "source": [
    "variable stores data while str is a word quoted in single or double quotation marks. "
   ]
  },
  {
   "cell_type": "code",
   "execution_count": null,
   "id": "c3259be5",
   "metadata": {},
   "outputs": [],
   "source": [
    "data types are numerical, arthmetic, categorical"
   ]
  },
  {
   "cell_type": "code",
   "execution_count": 12,
   "id": "84af9b49",
   "metadata": {},
   "outputs": [],
   "source": [
    "bacon=22"
   ]
  },
  {
   "cell_type": "code",
   "execution_count": 13,
   "id": "28a2a6f6",
   "metadata": {},
   "outputs": [
    {
     "name": "stdout",
     "output_type": "stream",
     "text": [
      "23\n"
     ]
    }
   ],
   "source": [
    "print(bacon+1)"
   ]
  },
  {
   "cell_type": "code",
   "execution_count": 14,
   "id": "b509d460",
   "metadata": {},
   "outputs": [
    {
     "data": {
      "text/plain": [
       "'spamspamspam'"
      ]
     },
     "execution_count": 14,
     "metadata": {},
     "output_type": "execute_result"
    }
   ],
   "source": [
    "'spam'+'spamspam'"
   ]
  },
  {
   "cell_type": "code",
   "execution_count": 15,
   "id": "e9191155",
   "metadata": {},
   "outputs": [
    {
     "data": {
      "text/plain": [
       "'spamspamspam'"
      ]
     },
     "execution_count": 15,
     "metadata": {},
     "output_type": "execute_result"
    }
   ],
   "source": [
    "'spam'*3"
   ]
  },
  {
   "cell_type": "code",
   "execution_count": 16,
   "id": "2ff7b508",
   "metadata": {},
   "outputs": [
    {
     "ename": "SyntaxError",
     "evalue": "invalid syntax (2832217813.py, line 1)",
     "output_type": "error",
     "traceback": [
      "\u001b[1;36m  Cell \u001b[1;32mIn[16], line 1\u001b[1;36m\u001b[0m\n\u001b[1;33m    Variable names cannot begin with a number\u001b[0m\n\u001b[1;37m             ^\u001b[0m\n\u001b[1;31mSyntaxError\u001b[0m\u001b[1;31m:\u001b[0m invalid syntax\n"
     ]
    }
   ],
   "source": [
    "Variable names cannot begin with a number"
   ]
  },
  {
   "cell_type": "raw",
   "id": "6ebdc6a6",
   "metadata": {},
   "source": [
    "integers are zero,positive or negative. whole numbers without a fractional p having unlimited precision eg: 0,100,-10. The followings are validinteger literals in p 00>>>100100>>>-10-10>>>>>>"
   ]
  },
  {
   "cell_type": "code",
   "execution_count": 17,
   "id": "1f9c40da",
   "metadata": {},
   "outputs": [
    {
     "data": {
      "text/plain": [
       "'i have eaten99burritos'"
      ]
     },
     "execution_count": 17,
     "metadata": {},
     "output_type": "execute_result"
    }
   ],
   "source": [
    "'i have eaten'+'99'+'burritos'"
   ]
  },
  {
   "cell_type": "code",
   "execution_count": null,
   "id": "02d948cd",
   "metadata": {},
   "outputs": [],
   "source": []
  }
 ],
 "metadata": {
  "kernelspec": {
   "display_name": "Python 3 (ipykernel)",
   "language": "python",
   "name": "python3"
  },
  "language_info": {
   "codemirror_mode": {
    "name": "ipython",
    "version": 3
   },
   "file_extension": ".py",
   "mimetype": "text/x-python",
   "name": "python",
   "nbconvert_exporter": "python",
   "pygments_lexer": "ipython3",
   "version": "3.10.9"
  }
 },
 "nbformat": 4,
 "nbformat_minor": 5
}
