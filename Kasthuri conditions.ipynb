{
 "cells": [
  {
   "cell_type": "code",
   "execution_count": 1,
   "id": "fbabe084",
   "metadata": {},
   "outputs": [],
   "source": [
    "#conditions"
   ]
  },
  {
   "cell_type": "code",
   "execution_count": null,
   "id": "303691a6",
   "metadata": {},
   "outputs": [],
   "source": [
    "conditions has 3 modules\n",
    "if\n",
    "elif\n",
    "else"
   ]
  },
  {
   "cell_type": "code",
   "execution_count": null,
   "id": "0b58ce6d",
   "metadata": {},
   "outputs": [],
   "source": [
    "if condition:\n",
    "    statement\n",
    "elif condition1:\n",
    "    statement1\n",
    "elif condition2:\n",
    "    statement2\n",
    "elif condition3:\n",
    "    statement3\n",
    "else:\n",
    "    end the statement\n"
   ]
  },
  {
   "cell_type": "code",
   "execution_count": 3,
   "id": "8919fc63",
   "metadata": {},
   "outputs": [
    {
     "name": "stdout",
     "output_type": "stream",
     "text": [
      "20\n"
     ]
    }
   ],
   "source": [
    "a=10\n",
    "b=20\n",
    "c=a+b\n",
    "if a>b:\n",
    "    print(c)\n",
    "elif a<b:\n",
    "    print(b)\n",
    "elif a!=b:\n",
    "    print(c)\n",
    "else:\n",
    "    print(\"enter the value:\")\n"
   ]
  },
  {
   "cell_type": "code",
   "execution_count": 1,
   "id": "5f360fc5",
   "metadata": {},
   "outputs": [
    {
     "name": "stdout",
     "output_type": "stream",
     "text": [
      "10\n"
     ]
    }
   ],
   "source": [
    "a=10\n",
    "if a==10:\n",
    "    print(a)"
   ]
  },
  {
   "cell_type": "code",
   "execution_count": 4,
   "id": "fbc7aed4",
   "metadata": {},
   "outputs": [
    {
     "name": "stdout",
     "output_type": "stream",
     "text": [
      "b is grt than a\n"
     ]
    }
   ],
   "source": [
    "a=10\n",
    "b=20\n",
    "if a>b:\n",
    "    print(\"a is grt than b\")\n",
    "#here space is known as indentation\n",
    "elif b>a:\n",
    "    print(\"b is grt than a\")"
   ]
  },
  {
   "cell_type": "code",
   "execution_count": 5,
   "id": "b3f71276",
   "metadata": {},
   "outputs": [
    {
     "name": "stdout",
     "output_type": "stream",
     "text": [
      "1010\n"
     ]
    }
   ],
   "source": [
    "number = 10\n",
    "a=f\"{number :b}\"\n",
    "print(a)"
   ]
  },
  {
   "cell_type": "code",
   "execution_count": 6,
   "id": "e28f21e5",
   "metadata": {},
   "outputs": [
    {
     "name": "stdout",
     "output_type": "stream",
     "text": [
      "11110\n"
     ]
    }
   ],
   "source": [
    "number2=30\n",
    "b=f\"{number2:0b}\"\n",
    "print(b)"
   ]
  },
  {
   "cell_type": "code",
   "execution_count": 7,
   "id": "0a52f790",
   "metadata": {},
   "outputs": [
    {
     "name": "stdout",
     "output_type": "stream",
     "text": [
      "0000011110\n"
     ]
    }
   ],
   "source": [
    "number3=30\n",
    "c=f\"{number2:010b}\"\n",
    "print(c)"
   ]
  },
  {
   "cell_type": "code",
   "execution_count": null,
   "id": "39352c8f",
   "metadata": {},
   "outputs": [],
   "source": [
    "#logical operations"
   ]
  },
  {
   "cell_type": "code",
   "execution_count": 8,
   "id": "45950bd8",
   "metadata": {},
   "outputs": [
    {
     "name": "stdout",
     "output_type": "stream",
     "text": [
      "10\n"
     ]
    }
   ],
   "source": [
    "a=10\n",
    "b=20\n",
    "if a==10 or a==20:\n",
    "    print(a)"
   ]
  },
  {
   "cell_type": "code",
   "execution_count": 9,
   "id": "1985ee49",
   "metadata": {},
   "outputs": [],
   "source": [
    "if a ==10 and a==20:\n",
    "    print(a)"
   ]
  },
  {
   "cell_type": "code",
   "execution_count": null,
   "id": "fc4b6380",
   "metadata": {},
   "outputs": [],
   "source": []
  }
 ],
 "metadata": {
  "kernelspec": {
   "display_name": "Python 3 (ipykernel)",
   "language": "python",
   "name": "python3"
  },
  "language_info": {
   "codemirror_mode": {
    "name": "ipython",
    "version": 3
   },
   "file_extension": ".py",
   "mimetype": "text/x-python",
   "name": "python",
   "nbconvert_exporter": "python",
   "pygments_lexer": "ipython3",
   "version": "3.10.9"
  }
 },
 "nbformat": 4,
 "nbformat_minor": 5
}
