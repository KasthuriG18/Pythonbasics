{
 "cells": [
  {
   "cell_type": "code",
   "execution_count": 1,
   "id": "f5840554",
   "metadata": {},
   "outputs": [],
   "source": [
    "\n",
    "dsname=\"kasthuri\""
   ]
  },
  {
   "cell_type": "code",
   "execution_count": null,
   "id": "be27fba7",
   "metadata": {},
   "outputs": [],
   "source": []
  },
  {
   "cell_type": "code",
   "execution_count": 2,
   "id": "86f0012c",
   "metadata": {},
   "outputs": [
    {
     "data": {
      "text/plain": [
       "'kasthuri'"
      ]
     },
     "execution_count": 2,
     "metadata": {},
     "output_type": "execute_result"
    }
   ],
   "source": [
    "name"
   ]
  },
  {
   "cell_type": "code",
   "execution_count": 7,
   "id": "5c9b6c3d",
   "metadata": {},
   "outputs": [],
   "source": [
    "bmw=\"x1\""
   ]
  },
  {
   "cell_type": "code",
   "execution_count": 8,
   "id": "06ce683a",
   "metadata": {},
   "outputs": [
    {
     "data": {
      "text/plain": [
       "'x1'"
      ]
     },
     "execution_count": 8,
     "metadata": {},
     "output_type": "execute_result"
    }
   ],
   "source": [
    "bmw"
   ]
  },
  {
   "cell_type": "code",
   "execution_count": 9,
   "id": "6211fbe0",
   "metadata": {},
   "outputs": [],
   "source": [
    "car=\"audi\""
   ]
  },
  {
   "cell_type": "code",
   "execution_count": 10,
   "id": "ed06adf6",
   "metadata": {},
   "outputs": [
    {
     "data": {
      "text/plain": [
       "'audi'"
      ]
     },
     "execution_count": 10,
     "metadata": {},
     "output_type": "execute_result"
    }
   ],
   "source": [
    "car"
   ]
  },
  {
   "cell_type": "code",
   "execution_count": 11,
   "id": "4d961891",
   "metadata": {},
   "outputs": [],
   "source": [
    "college=\"KMICS\"\n"
   ]
  },
  {
   "cell_type": "code",
   "execution_count": 12,
   "id": "e2fae3ed",
   "metadata": {},
   "outputs": [
    {
     "data": {
      "text/plain": [
       "'KMICS'"
      ]
     },
     "execution_count": 12,
     "metadata": {},
     "output_type": "execute_result"
    }
   ],
   "source": [
    "college"
   ]
  },
  {
   "cell_type": "code",
   "execution_count": 13,
   "id": "21d59044",
   "metadata": {},
   "outputs": [],
   "source": [
    "phone=\"oppo\""
   ]
  },
  {
   "cell_type": "code",
   "execution_count": 14,
   "id": "71d457b5",
   "metadata": {},
   "outputs": [
    {
     "data": {
      "text/plain": [
       "'oppo'"
      ]
     },
     "execution_count": 14,
     "metadata": {},
     "output_type": "execute_result"
    }
   ],
   "source": [
    "phone"
   ]
  },
  {
   "cell_type": "code",
   "execution_count": 22,
   "id": "10d72b39",
   "metadata": {},
   "outputs": [],
   "source": [
    "program=\"SQL programming\""
   ]
  },
  {
   "cell_type": "code",
   "execution_count": 16,
   "id": "d5bed583",
   "metadata": {},
   "outputs": [
    {
     "ename": "NameError",
     "evalue": "name 'PROGRAM' is not defined",
     "output_type": "error",
     "traceback": [
      "\u001b[1;31m---------------------------------------------------------------------------\u001b[0m",
      "\u001b[1;31mNameError\u001b[0m                                 Traceback (most recent call last)",
      "Cell \u001b[1;32mIn[16], line 1\u001b[0m\n\u001b[1;32m----> 1\u001b[0m \u001b[43mPROGRAM\u001b[49m\n",
      "\u001b[1;31mNameError\u001b[0m: name 'PROGRAM' is not defined"
     ]
    }
   ],
   "source": [
    "PROGRAM"
   ]
  },
  {
   "cell_type": "code",
   "execution_count": 17,
   "id": "128f3119",
   "metadata": {},
   "outputs": [
    {
     "data": {
      "text/plain": [
       "'SQL'"
      ]
     },
     "execution_count": 17,
     "metadata": {},
     "output_type": "execute_result"
    }
   ],
   "source": [
    "program"
   ]
  },
  {
   "cell_type": "code",
   "execution_count": 18,
   "id": "ba397163",
   "metadata": {},
   "outputs": [],
   "source": [
    "name=\"kasthuri\""
   ]
  },
  {
   "cell_type": "code",
   "execution_count": 19,
   "id": "316d6379",
   "metadata": {},
   "outputs": [
    {
     "data": {
      "text/plain": [
       "'kasthuri'"
      ]
     },
     "execution_count": 19,
     "metadata": {},
     "output_type": "execute_result"
    }
   ],
   "source": [
    "name"
   ]
  },
  {
   "cell_type": "code",
   "execution_count": 20,
   "id": "606ddb2e",
   "metadata": {},
   "outputs": [],
   "source": [
    "number=\"2023\""
   ]
  },
  {
   "cell_type": "code",
   "execution_count": 21,
   "id": "7c2eb491",
   "metadata": {},
   "outputs": [
    {
     "data": {
      "text/plain": [
       "'2023'"
      ]
     },
     "execution_count": 21,
     "metadata": {},
     "output_type": "execute_result"
    }
   ],
   "source": [
    "number"
   ]
  },
  {
   "cell_type": "code",
   "execution_count": 23,
   "id": "e00f9d04",
   "metadata": {},
   "outputs": [
    {
     "data": {
      "text/plain": [
       "'SQL programming'"
      ]
     },
     "execution_count": 23,
     "metadata": {},
     "output_type": "execute_result"
    }
   ],
   "source": [
    "program"
   ]
  },
  {
   "cell_type": "code",
   "execution_count": 24,
   "id": "e6c1307d",
   "metadata": {},
   "outputs": [
    {
     "data": {
      "text/plain": [
       "str"
      ]
     },
     "execution_count": 24,
     "metadata": {},
     "output_type": "execute_result"
    }
   ],
   "source": [
    "type(number)"
   ]
  },
  {
   "cell_type": "code",
   "execution_count": 26,
   "id": "a0c8e1f4",
   "metadata": {},
   "outputs": [],
   "source": [
    "number1=2023"
   ]
  },
  {
   "cell_type": "markdown",
   "id": "39a19520",
   "metadata": {},
   "source": []
  },
  {
   "cell_type": "markdown",
   "id": "253c522a",
   "metadata": {},
   "source": [
    "# "
   ]
  },
  {
   "cell_type": "code",
   "execution_count": 27,
   "id": "fbc17c40",
   "metadata": {},
   "outputs": [
    {
     "data": {
      "text/plain": [
       "2023"
      ]
     },
     "execution_count": 27,
     "metadata": {},
     "output_type": "execute_result"
    }
   ],
   "source": [
    "number1"
   ]
  },
  {
   "cell_type": "code",
   "execution_count": 28,
   "id": "3b2e506b",
   "metadata": {},
   "outputs": [
    {
     "data": {
      "text/plain": [
       "int"
      ]
     },
     "execution_count": 28,
     "metadata": {},
     "output_type": "execute_result"
    }
   ],
   "source": [
    "type(number1)"
   ]
  },
  {
   "cell_type": "code",
   "execution_count": 29,
   "id": "1ab6e450",
   "metadata": {},
   "outputs": [
    {
     "ename": "SyntaxError",
     "evalue": "invalid decimal literal (4053201046.py, line 1)",
     "output_type": "error",
     "traceback": [
      "\u001b[1;36m  Cell \u001b[1;32mIn[29], line 1\u001b[1;36m\u001b[0m\n\u001b[1;33m    1number=\"kasthuri\"\u001b[0m\n\u001b[1;37m    ^\u001b[0m\n\u001b[1;31mSyntaxError\u001b[0m\u001b[1;31m:\u001b[0m invalid decimal literal\n"
     ]
    }
   ],
   "source": [
    "1number=\"kasthuri\""
   ]
  },
  {
   "cell_type": "code",
   "execution_count": 30,
   "id": "fa034250",
   "metadata": {},
   "outputs": [],
   "source": [
    "s=(1,2,3,4,5,6,7,8,9)"
   ]
  },
  {
   "cell_type": "code",
   "execution_count": 31,
   "id": "e666742e",
   "metadata": {},
   "outputs": [
    {
     "data": {
      "text/plain": [
       "(1, 2, 3, 4, 5, 6, 7, 8, 9)"
      ]
     },
     "execution_count": 31,
     "metadata": {},
     "output_type": "execute_result"
    }
   ],
   "source": [
    "s"
   ]
  },
  {
   "cell_type": "code",
   "execution_count": 32,
   "id": "1c586f7a",
   "metadata": {},
   "outputs": [
    {
     "data": {
      "text/plain": [
       "tuple"
      ]
     },
     "execution_count": 32,
     "metadata": {},
     "output_type": "execute_result"
    }
   ],
   "source": [
    "type(s)"
   ]
  },
  {
   "cell_type": "code",
   "execution_count": 33,
   "id": "16d4942a",
   "metadata": {},
   "outputs": [],
   "source": [
    "s1=(\"kasthuri\",\"coding\",\"😍\")"
   ]
  },
  {
   "cell_type": "code",
   "execution_count": 34,
   "id": "8a3ea406",
   "metadata": {},
   "outputs": [
    {
     "data": {
      "text/plain": [
       "('kasthuri', 'coding', '😍')"
      ]
     },
     "execution_count": 34,
     "metadata": {},
     "output_type": "execute_result"
    }
   ],
   "source": [
    "s1"
   ]
  },
  {
   "cell_type": "code",
   "execution_count": 35,
   "id": "795bb2d6",
   "metadata": {},
   "outputs": [
    {
     "data": {
      "text/plain": [
       "tuple"
      ]
     },
     "execution_count": 35,
     "metadata": {},
     "output_type": "execute_result"
    }
   ],
   "source": [
    "type(s1)"
   ]
  },
  {
   "cell_type": "code",
   "execution_count": 36,
   "id": "77d5896d",
   "metadata": {},
   "outputs": [],
   "source": [
    "car=['bmw','audi','jaguar','lamborgini']"
   ]
  },
  {
   "cell_type": "code",
   "execution_count": 37,
   "id": "bc4ca4e1",
   "metadata": {},
   "outputs": [
    {
     "data": {
      "text/plain": [
       "list"
      ]
     },
     "execution_count": 37,
     "metadata": {},
     "output_type": "execute_result"
    }
   ],
   "source": [
    "type(car)"
   ]
  },
  {
   "cell_type": "code",
   "execution_count": 38,
   "id": "ccc2fd91",
   "metadata": {},
   "outputs": [],
   "source": [
    "s2={1,2,3,4,5,\"kasthuri\",\"college\",\"coding\",\"phone\"}"
   ]
  },
  {
   "cell_type": "code",
   "execution_count": 39,
   "id": "ec1fb75d",
   "metadata": {},
   "outputs": [
    {
     "data": {
      "text/plain": [
       "{1, 2, 3, 4, 5, 'coding', 'college', 'kasthuri', 'phone'}"
      ]
     },
     "execution_count": 39,
     "metadata": {},
     "output_type": "execute_result"
    }
   ],
   "source": [
    "s2"
   ]
  },
  {
   "cell_type": "code",
   "execution_count": 40,
   "id": "248b1c42",
   "metadata": {},
   "outputs": [
    {
     "data": {
      "text/plain": [
       "set"
      ]
     },
     "execution_count": 40,
     "metadata": {},
     "output_type": "execute_result"
    }
   ],
   "source": [
    "type(s2)"
   ]
  },
  {
   "cell_type": "code",
   "execution_count": 1,
   "id": "80a48492",
   "metadata": {},
   "outputs": [],
   "source": [
    "\n",
    "strings = \"kasthuri\",\"car\",\"holiday\",\"nike\",\"colege\""
   ]
  },
  {
   "cell_type": "code",
   "execution_count": 2,
   "id": "baaafff3",
   "metadata": {},
   "outputs": [
    {
     "ename": "NameError",
     "evalue": "name 'stringd' is not defined",
     "output_type": "error",
     "traceback": [
      "\u001b[1;31m---------------------------------------------------------------------------\u001b[0m",
      "\u001b[1;31mNameError\u001b[0m                                 Traceback (most recent call last)",
      "Cell \u001b[1;32mIn[2], line 1\u001b[0m\n\u001b[1;32m----> 1\u001b[0m \u001b[43mstringd\u001b[49m\n",
      "\u001b[1;31mNameError\u001b[0m: name 'stringd' is not defined"
     ]
    }
   ],
   "source": [
    "stringd"
   ]
  },
  {
   "cell_type": "code",
   "execution_count": 3,
   "id": "ee3440cd",
   "metadata": {},
   "outputs": [
    {
     "data": {
      "text/plain": [
       "('kasthuri', 'car', 'holiday', 'nike', 'colege')"
      ]
     },
     "execution_count": 3,
     "metadata": {},
     "output_type": "execute_result"
    }
   ],
   "source": [
    "strings"
   ]
  },
  {
   "cell_type": "code",
   "execution_count": 4,
   "id": "0ea2ff62",
   "metadata": {},
   "outputs": [
    {
     "name": "stdout",
     "output_type": "stream",
     "text": [
      "('kasthuri', 'car', 'holiday', 'nike', 'colege')\n"
     ]
    }
   ],
   "source": [
    "print(strings)"
   ]
  },
  {
   "cell_type": "code",
   "execution_count": null,
   "id": "2930c869",
   "metadata": {},
   "outputs": [],
   "source": [
    "# print(\"kasthuri\")"
   ]
  },
  {
   "cell_type": "code",
   "execution_count": 6,
   "id": "31e5fe8a",
   "metadata": {},
   "outputs": [
    {
     "name": "stdout",
     "output_type": "stream",
     "text": [
      "course\n"
     ]
    }
   ],
   "source": [
    "print(\"course\")"
   ]
  },
  {
   "cell_type": "code",
   "execution_count": 7,
   "id": "9449a3d1",
   "metadata": {},
   "outputs": [
    {
     "name": "stdout",
     "output_type": "stream",
     "text": [
      "laptop\n"
     ]
    }
   ],
   "source": [
    "print(\"laptop\")"
   ]
  },
  {
   "cell_type": "code",
   "execution_count": null,
   "id": "98e70fba",
   "metadata": {},
   "outputs": [],
   "source": [
    "# indexing"
   ]
  },
  {
   "cell_type": "code",
   "execution_count": 11,
   "id": "a7685bdc",
   "metadata": {},
   "outputs": [],
   "source": [
    "s=(0,1,2,3.4,5,6,7)"
   ]
  },
  {
   "cell_type": "code",
   "execution_count": 10,
   "id": "d2d35e8d",
   "metadata": {},
   "outputs": [
    {
     "data": {
      "text/plain": [
       "(1, 2, 3.4, 5, 6, 7)"
      ]
     },
     "execution_count": 10,
     "metadata": {},
     "output_type": "execute_result"
    }
   ],
   "source": [
    "s"
   ]
  },
  {
   "cell_type": "code",
   "execution_count": 12,
   "id": "07db137f",
   "metadata": {},
   "outputs": [
    {
     "data": {
      "text/plain": [
       "(0, 1, 2, 3.4, 5, 6, 7)"
      ]
     },
     "execution_count": 12,
     "metadata": {},
     "output_type": "execute_result"
    }
   ],
   "source": [
    "s"
   ]
  },
  {
   "cell_type": "code",
   "execution_count": 14,
   "id": "2a528ff4",
   "metadata": {},
   "outputs": [
    {
     "ename": "IndexError",
     "evalue": "tuple index out of range",
     "output_type": "error",
     "traceback": [
      "\u001b[1;31m---------------------------------------------------------------------------\u001b[0m",
      "\u001b[1;31mIndexError\u001b[0m                                Traceback (most recent call last)",
      "Cell \u001b[1;32mIn[14], line 1\u001b[0m\n\u001b[1;32m----> 1\u001b[0m \u001b[43ms\u001b[49m\u001b[43m[\u001b[49m\u001b[38;5;241;43m7\u001b[39;49m\u001b[43m]\u001b[49m\n",
      "\u001b[1;31mIndexError\u001b[0m: tuple index out of range"
     ]
    }
   ],
   "source": [
    "s[7]"
   ]
  },
  {
   "cell_type": "code",
   "execution_count": 15,
   "id": "e1daea7c",
   "metadata": {},
   "outputs": [
    {
     "data": {
      "text/plain": [
       "1"
      ]
     },
     "execution_count": 15,
     "metadata": {},
     "output_type": "execute_result"
    }
   ],
   "source": [
    "s[1]"
   ]
  },
  {
   "cell_type": "code",
   "execution_count": 17,
   "id": "6b3f9cbe",
   "metadata": {},
   "outputs": [
    {
     "data": {
      "text/plain": [
       "6"
      ]
     },
     "execution_count": 17,
     "metadata": {},
     "output_type": "execute_result"
    }
   ],
   "source": [
    "s[5]"
   ]
  },
  {
   "cell_type": "code",
   "execution_count": 18,
   "id": "1e804646",
   "metadata": {},
   "outputs": [],
   "source": [
    "s2=[\"audi\",\"jaguar\",\"lamborgini\",\"porshe\"]"
   ]
  },
  {
   "cell_type": "code",
   "execution_count": 19,
   "id": "9f7a1b8e",
   "metadata": {},
   "outputs": [
    {
     "data": {
      "text/plain": [
       "'jaguar'"
      ]
     },
     "execution_count": 19,
     "metadata": {},
     "output_type": "execute_result"
    }
   ],
   "source": [
    "s2[1]"
   ]
  },
  {
   "cell_type": "code",
   "execution_count": 20,
   "id": "4c65d608",
   "metadata": {},
   "outputs": [],
   "source": [
    "s3=[\"pen\",\"pencil\",\"penpencil\",\"gel pen\"]"
   ]
  },
  {
   "cell_type": "code",
   "execution_count": 21,
   "id": "146731df",
   "metadata": {},
   "outputs": [
    {
     "data": {
      "text/plain": [
       "'penpencil'"
      ]
     },
     "execution_count": 21,
     "metadata": {},
     "output_type": "execute_result"
    }
   ],
   "source": [
    "s3[2]"
   ]
  },
  {
   "cell_type": "code",
   "execution_count": 24,
   "id": "9ca77d02",
   "metadata": {},
   "outputs": [
    {
     "data": {
      "text/plain": [
       "'pen'"
      ]
     },
     "execution_count": 24,
     "metadata": {},
     "output_type": "execute_result"
    }
   ],
   "source": [
    "s3[0]"
   ]
  },
  {
   "cell_type": "code",
   "execution_count": 6,
   "id": "e86c22ae",
   "metadata": {},
   "outputs": [],
   "source": [
    "kasthuri=(\"i am kasthuri from hyderabad and i stay in balapur\")"
   ]
  },
  {
   "cell_type": "code",
   "execution_count": 2,
   "id": "3830d2e3",
   "metadata": {},
   "outputs": [
    {
     "name": "stdout",
     "output_type": "stream",
     "text": [
      "i am kasthuri from hyderabad and i stay in balapur\n"
     ]
    }
   ],
   "source": [
    "print(kasthuri)"
   ]
  },
  {
   "cell_type": "code",
   "execution_count": 3,
   "id": "b2d40a80",
   "metadata": {},
   "outputs": [
    {
     "data": {
      "text/plain": [
       "'a'"
      ]
     },
     "execution_count": 3,
     "metadata": {},
     "output_type": "execute_result"
    }
   ],
   "source": [
    "kasthuri[2]"
   ]
  },
  {
   "cell_type": "code",
   "execution_count": 4,
   "id": "d0bda701",
   "metadata": {},
   "outputs": [
    {
     "data": {
      "text/plain": [
       "'m'"
      ]
     },
     "execution_count": 4,
     "metadata": {},
     "output_type": "execute_result"
    }
   ],
   "source": [
    "kasthuri[3]"
   ]
  },
  {
   "cell_type": "code",
   "execution_count": 5,
   "id": "dfa14c5b",
   "metadata": {},
   "outputs": [
    {
     "data": {
      "text/plain": [
       "' '"
      ]
     },
     "execution_count": 5,
     "metadata": {},
     "output_type": "execute_result"
    }
   ],
   "source": [
    "kasthuri[18]"
   ]
  },
  {
   "cell_type": "code",
   "execution_count": 7,
   "id": "c8e15fab",
   "metadata": {},
   "outputs": [
    {
     "data": {
      "text/plain": [
       "'i'"
      ]
     },
     "execution_count": 7,
     "metadata": {},
     "output_type": "execute_result"
    }
   ],
   "source": [
    "kasthuri[0]\n"
   ]
  },
  {
   "cell_type": "code",
   "execution_count": 8,
   "id": "24884622",
   "metadata": {},
   "outputs": [
    {
     "data": {
      "text/plain": [
       "'r'"
      ]
     },
     "execution_count": 8,
     "metadata": {},
     "output_type": "execute_result"
    }
   ],
   "source": [
    "kasthuri[-1]"
   ]
  },
  {
   "cell_type": "code",
   "execution_count": 10,
   "id": "acfc256c",
   "metadata": {},
   "outputs": [
    {
     "data": {
      "text/plain": [
       "' '"
      ]
     },
     "execution_count": 10,
     "metadata": {},
     "output_type": "execute_result"
    }
   ],
   "source": [
    "kasthuri[-8]"
   ]
  },
  {
   "cell_type": "code",
   "execution_count": null,
   "id": "1eea77f1",
   "metadata": {},
   "outputs": [],
   "source": []
  },
  {
   "cell_type": "code",
   "execution_count": 12,
   "id": "3c3b9878",
   "metadata": {},
   "outputs": [],
   "source": [
    "kasthuri=\"i write code\""
   ]
  },
  {
   "cell_type": "code",
   "execution_count": 15,
   "id": "0aca5eef",
   "metadata": {},
   "outputs": [
    {
     "data": {
      "text/plain": [
       "'iwiec'"
      ]
     },
     "execution_count": 15,
     "metadata": {},
     "output_type": "execute_result"
    }
   ],
   "source": [
    "kasthuri[0:10:2]"
   ]
  },
  {
   "cell_type": "code",
   "execution_count": 16,
   "id": "e1ffb044",
   "metadata": {},
   "outputs": [
    {
     "data": {
      "text/plain": [
       "'ireo'"
      ]
     },
     "execution_count": 16,
     "metadata": {},
     "output_type": "execute_result"
    }
   ],
   "source": [
    "kasthuri[0:10:3]"
   ]
  },
  {
   "cell_type": "code",
   "execution_count": null,
   "id": "1e1aad37",
   "metadata": {},
   "outputs": [],
   "source": []
  },
  {
   "cell_type": "code",
   "execution_count": null,
   "id": "d1566162",
   "metadata": {},
   "outputs": [],
   "source": []
  }
 ],
 "metadata": {
  "kernelspec": {
   "display_name": "Python 3 (ipykernel)",
   "language": "python",
   "name": "python3"
  },
  "language_info": {
   "codemirror_mode": {
    "name": "ipython",
    "version": 3
   },
   "file_extension": ".py",
   "mimetype": "text/x-python",
   "name": "python",
   "nbconvert_exporter": "python",
   "pygments_lexer": "ipython3",
   "version": "3.10.9"
  }
 },
 "nbformat": 4,
 "nbformat_minor": 5
}
