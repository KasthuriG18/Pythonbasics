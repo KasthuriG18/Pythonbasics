{
 "cells": [
  {
   "cell_type": "code",
   "execution_count": 1,
   "id": "46bc966c",
   "metadata": {},
   "outputs": [],
   "source": [
    "list=[\"kasthuri\",\"car\",\"money\",\"watch\",\"bike\",\"collage\"]"
   ]
  },
  {
   "cell_type": "code",
   "execution_count": 2,
   "id": "a430c69e",
   "metadata": {},
   "outputs": [
    {
     "data": {
      "text/plain": [
       "['kasthuri', 'car', 'money', 'watch', 'bike', 'collage']"
      ]
     },
     "execution_count": 2,
     "metadata": {},
     "output_type": "execute_result"
    }
   ],
   "source": [
    "list"
   ]
  },
  {
   "cell_type": "code",
   "execution_count": 3,
   "id": "4dcde225",
   "metadata": {},
   "outputs": [],
   "source": [
    "a=[\"a\",\"b\",\"c\",\"d\",\"e\",\"f\",\"g\",\"h\",\"i\",\"j\",\"k\"]"
   ]
  },
  {
   "cell_type": "code",
   "execution_count": 4,
   "id": "51b3ad69",
   "metadata": {},
   "outputs": [
    {
     "data": {
      "text/plain": [
       "['a', 'b', 'c', 'd', 'e', 'f', 'g', 'h', 'i', 'j', 'k']"
      ]
     },
     "execution_count": 4,
     "metadata": {},
     "output_type": "execute_result"
    }
   ],
   "source": [
    "a"
   ]
  },
  {
   "cell_type": "code",
   "execution_count": 5,
   "id": "eeea7ea5",
   "metadata": {},
   "outputs": [],
   "source": [
    "b={1,2,3,4,5,6,7}"
   ]
  },
  {
   "cell_type": "code",
   "execution_count": 6,
   "id": "f7ff9138",
   "metadata": {},
   "outputs": [
    {
     "data": {
      "text/plain": [
       "{1, 2, 3, 4, 5, 6, 7}"
      ]
     },
     "execution_count": 6,
     "metadata": {},
     "output_type": "execute_result"
    }
   ],
   "source": [
    "b"
   ]
  },
  {
   "cell_type": "code",
   "execution_count": 7,
   "id": "fb61afb7",
   "metadata": {},
   "outputs": [],
   "source": [
    "set={1,2,3,4,5,6,7,8,9,10}"
   ]
  },
  {
   "cell_type": "code",
   "execution_count": 8,
   "id": "75da9252",
   "metadata": {},
   "outputs": [
    {
     "ename": "TypeError",
     "evalue": "'set' object is not subscriptable",
     "output_type": "error",
     "traceback": [
      "\u001b[1;31m---------------------------------------------------------------------------\u001b[0m",
      "\u001b[1;31mTypeError\u001b[0m                                 Traceback (most recent call last)",
      "Cell \u001b[1;32mIn[8], line 1\u001b[0m\n\u001b[1;32m----> 1\u001b[0m \u001b[38;5;28;43mset\u001b[39;49m\u001b[43m[\u001b[49m\u001b[38;5;241;43m1\u001b[39;49m\u001b[43m]\u001b[49m\n",
      "\u001b[1;31mTypeError\u001b[0m: 'set' object is not subscriptable"
     ]
    }
   ],
   "source": [
    "set[1]"
   ]
  },
  {
   "cell_type": "code",
   "execution_count": null,
   "id": "4daabb0d",
   "metadata": {},
   "outputs": [],
   "source": [
    "dic={\"key\":\"value\",\"key1\":\"value2\",\"key\":\"value2\"}"
   ]
  },
  {
   "cell_type": "code",
   "execution_count": null,
   "id": "335c75b3",
   "metadata": {},
   "outputs": [],
   "source": [
    "kasthuri={\"name\":\"kasthuri\",\"email_id\":\"kasthurigorige@gmail.com\",\"collage\":\"kmics\",\"place\":\"hyderabad\"}"
   ]
  },
  {
   "cell_type": "code",
   "execution_count": null,
   "id": "5bc918ee",
   "metadata": {},
   "outputs": [],
   "source": [
    "kasthuri"
   ]
  },
  {
   "cell_type": "code",
   "execution_count": null,
   "id": "a1935b06",
   "metadata": {},
   "outputs": [],
   "source": [
    "kasthuri.values()"
   ]
  },
  {
   "cell_type": "code",
   "execution_count": null,
   "id": "f01c051f",
   "metadata": {},
   "outputs": [],
   "source": [
    "kasthuri.keys()"
   ]
  },
  {
   "cell_type": "code",
   "execution_count": null,
   "id": "b686db65",
   "metadata": {},
   "outputs": [],
   "source": [
    "kasthuri.values"
   ]
  },
  {
   "cell_type": "code",
   "execution_count": null,
   "id": "4ca4ca37",
   "metadata": {},
   "outputs": [],
   "source": [
    "type(kasthuri)"
   ]
  },
  {
   "cell_type": "code",
   "execution_count": null,
   "id": "70b6b5a7",
   "metadata": {},
   "outputs": [],
   "source": [
    "kasthuri[0]=\"krishna\""
   ]
  },
  {
   "cell_type": "code",
   "execution_count": null,
   "id": "5fc632da",
   "metadata": {},
   "outputs": [],
   "source": [
    "kasthuri"
   ]
  },
  {
   "cell_type": "code",
   "execution_count": null,
   "id": "09224c35",
   "metadata": {},
   "outputs": [],
   "source": [
    "kasthuri[1]=\"holiday\""
   ]
  },
  {
   "cell_type": "code",
   "execution_count": null,
   "id": "da097462",
   "metadata": {},
   "outputs": [],
   "source": [
    "kasthuri"
   ]
  },
  {
   "cell_type": "code",
   "execution_count": null,
   "id": "c8a4e7f9",
   "metadata": {},
   "outputs": [],
   "source": [
    "kasthuri[2]=\"movie\""
   ]
  },
  {
   "cell_type": "code",
   "execution_count": null,
   "id": "1ddf146e",
   "metadata": {},
   "outputs": [],
   "source": [
    "kasthuri"
   ]
  },
  {
   "cell_type": "code",
   "execution_count": null,
   "id": "f2ee672b",
   "metadata": {},
   "outputs": [],
   "source": [
    "t=(\"kasthuri\",\"collage\",\"car\",\"book\",\"bike\")"
   ]
  },
  {
   "cell_type": "code",
   "execution_count": null,
   "id": "c25587fe",
   "metadata": {},
   "outputs": [],
   "source": [
    "t"
   ]
  },
  {
   "cell_type": "code",
   "execution_count": null,
   "id": "6c8d5004",
   "metadata": {},
   "outputs": [],
   "source": [
    "t[0]=\"rama\"\n"
   ]
  },
  {
   "cell_type": "code",
   "execution_count": null,
   "id": "067bf07d",
   "metadata": {},
   "outputs": [],
   "source": [
    "t(0)=\"rama\""
   ]
  },
  {
   "cell_type": "code",
   "execution_count": null,
   "id": "00a1fdcb",
   "metadata": {},
   "outputs": [],
   "source": [
    "t=[\"kasthuri\",\"collage\",\"car\",\"book\",\"bike\"]"
   ]
  },
  {
   "cell_type": "code",
   "execution_count": null,
   "id": "80ca6b49",
   "metadata": {},
   "outputs": [],
   "source": [
    "t"
   ]
  },
  {
   "cell_type": "code",
   "execution_count": null,
   "id": "66ad1755",
   "metadata": {},
   "outputs": [],
   "source": [
    "t[0]=\"rama\""
   ]
  },
  {
   "cell_type": "code",
   "execution_count": null,
   "id": "77f65727",
   "metadata": {},
   "outputs": [],
   "source": [
    "f=open(\"kasthuri.txt\",\"w\")"
   ]
  },
  {
   "cell_type": "code",
   "execution_count": null,
   "id": "2180ae83",
   "metadata": {},
   "outputs": [],
   "source": [
    "f.write(\"this is my first file writen in jupyter notebook on 1-april-2023\")"
   ]
  },
  {
   "cell_type": "code",
   "execution_count": null,
   "id": "c939d71a",
   "metadata": {},
   "outputs": [],
   "source": [
    "f.close()"
   ]
  },
  {
   "cell_type": "code",
   "execution_count": null,
   "id": "256b7720",
   "metadata": {},
   "outputs": [],
   "source": []
  },
  {
   "cell_type": "code",
   "execution_count": null,
   "id": "672ff4a6",
   "metadata": {},
   "outputs": [],
   "source": []
  },
  {
   "cell_type": "code",
   "execution_count": null,
   "id": "826f3883",
   "metadata": {},
   "outputs": [],
   "source": []
  }
 ],
 "metadata": {
  "kernelspec": {
   "display_name": "Python 3 (ipykernel)",
   "language": "python",
   "name": "python3"
  },
  "language_info": {
   "codemirror_mode": {
    "name": "ipython",
    "version": 3
   },
   "file_extension": ".py",
   "mimetype": "text/x-python",
   "name": "python",
   "nbconvert_exporter": "python",
   "pygments_lexer": "ipython3",
   "version": "3.10.9"
  }
 },
 "nbformat": 4,
 "nbformat_minor": 5
}
